{
 "cells": [
  {
   "cell_type": "code",
   "execution_count": 5,
   "metadata": {},
   "outputs": [],
   "source": [
    "using Groebner\n",
    "using DynamicPolynomials\n",
    "\n",
    "function diff_op(q, ps, vars)\n",
    "    partial_q = 0\n",
    "    for (i, pi) in enumerate(ps)\n",
    "        partial_q =  partial_q + pi * differentiate(q, vars[i])\n",
    "    end\n",
    "    return partial_q\n",
    "end;\n",
    "\n",
    "function algorithm_i(q, ps, vars)\n",
    "    S = q\n",
    "    g = q\n",
    "    G = groebner(S)\n",
    "    while true\n",
    "        g = [diff_op(gi, ps, vars) for gi in G]\n",
    "        #g = [normalform(G, gi) for gi in g]\n",
    "        for gi in g\n",
    "            println(gi)\n",
    "            println(G)\n",
    "            println(\"----\")\n",
    "            gi = normalform(G, gi)\n",
    "            println(gi)\n",
    "        end\n",
    "        if all(g .== 0)\n",
    "            return G\n",
    "        else\n",
    "            S = S + g\n",
    "            G = groebner(S)\n",
    "        end\n",
    "    end    \n",
    "end;"
   ]
  },
  {
   "cell_type": "code",
   "execution_count": 11,
   "metadata": {},
   "outputs": [
    {
     "name": "stdout",
     "output_type": "stream",
     "text": [
      "2*y*v + 2*x*u\n",
      "Polynomial{DynamicPolynomials.Commutative{DynamicPolynomials.CreationOrder}, Graded{LexOrder}, Int64}[-1 + y² + x²]\n",
      "----\n"
     ]
    },
    {
     "ename": "DimensionMismatch",
     "evalue": "DimensionMismatch: all inputs to eachindex must have the same indices, got Base.OneTo(5) and Base.OneTo(3)",
     "output_type": "error",
     "traceback": [
      "DimensionMismatch: all inputs to eachindex must have the same indices, got Base.OneTo(5) and Base.OneTo(3)\n",
      "\n",
      "Stacktrace:\n",
      "  [1] throw_eachindex_mismatch_indices(::IndexLinear, ::Base.OneTo{Int64}, ::Vararg{Base.OneTo{Int64}})\n",
      "    @ Base ./abstractarray.jl:318\n",
      "  [2] eachindex\n",
      "    @ ./abstractarray.jl:386 [inlined]\n",
      "  [3] eachindex\n",
      "    @ ./abstractarray.jl:375 [inlined]\n",
      "  [4] monom_hash\n",
      "    @ ~/.julia/packages/Groebner/IF5vZ/src/monomials/exponentvector.jl:71 [inlined]\n",
      "  [5] hashtable_insert!(ht::Groebner.MonomialHashtable{Vector{UInt64}, Groebner._DegLex{true}}, e::Vector{UInt64})\n",
      "    @ Groebner ~/.julia/packages/Groebner/IF5vZ/src/f4/hashtable.jl:351\n",
      "  [6] basis_fill_data!(basis::Groebner.Basis{Rational{BigInt}}, ht::Groebner.MonomialHashtable{Vector{UInt64}, Groebner._DegLex{true}}, exponents::Vector{Vector{Vector{UInt64}}}, coeffs::Vector{Vector{Rational{BigInt}}})\n",
      "    @ Groebner ~/.julia/packages/Groebner/IF5vZ/src/f4/basis.jl:517\n",
      "  [7] basis_initialize_using_existing_hashtable\n",
      "    @ ~/.julia/packages/Groebner/IF5vZ/src/f4/basis.jl:188 [inlined]\n",
      "  [8] macro expansion\n",
      "    @ ~/.julia/packages/Groebner/IF5vZ/src/groebner/normalform.jl:81 [inlined]\n",
      "  [9] _normalform1(ring::Groebner.PolyRing{Groebner._DegLex{true}, UInt64}, monoms::Vector{Vector{Vector{UInt64}}}, coeffs::Vector{Vector{Rational{BigInt}}}, monoms_to_be_reduced::Vector{Vector{Vector{UInt64}}}, coeffs_to_be_reduced::Vector{Vector{Rational{BigInt}}}, params::Groebner.AlgorithmParameters{DegLex{Nothing}, DegLex{Nothing}, DegLex{Nothing}, Groebner.ArithmeticQQ{Rational{BigInt}, Rational{BigInt}}})\n",
      "    @ Groebner ~/.julia/packages/Groebner/IF5vZ/src/utils/timeit.jl:95\n",
      " [10] _normalform0(polynomials::Vector{Polynomial{DynamicPolynomials.Commutative{DynamicPolynomials.CreationOrder}, Graded{LexOrder}, Int64}}, to_be_reduced::Vector{Polynomial{DynamicPolynomials.Commutative{DynamicPolynomials.CreationOrder}, Graded{LexOrder}, Int64}}, kws::Groebner.KeywordsHandler{InputOrdering})\n",
      "    @ Groebner ~/.julia/packages/Groebner/IF5vZ/src/groebner/normalform.jl:51\n",
      " [11] #normalform#1146\n",
      "    @ ~/.julia/packages/Groebner/IF5vZ/src/interface.jl:421 [inlined]\n",
      " [12] normalform\n",
      "    @ ~/.julia/packages/Groebner/IF5vZ/src/interface.jl:412 [inlined]\n",
      " [13] #normalform#1147\n",
      "    @ ~/.julia/packages/Groebner/IF5vZ/src/interface.jl:429 [inlined]\n",
      " [14] normalform(basis::Vector{Polynomial{DynamicPolynomials.Commutative{DynamicPolynomials.CreationOrder}, Graded{LexOrder}, Int64}}, to_be_reduced::Polynomial{DynamicPolynomials.Commutative{DynamicPolynomials.CreationOrder}, Graded{LexOrder}, Int64})\n",
      "    @ Groebner ~/.julia/packages/Groebner/IF5vZ/src/interface.jl:429\n",
      " [15] algorithm_i(q::Vector{Polynomial{DynamicPolynomials.Commutative{DynamicPolynomials.CreationOrder}, Graded{LexOrder}, Int64}}, ps::Vector{Polynomial{DynamicPolynomials.Commutative{DynamicPolynomials.CreationOrder}, Graded{LexOrder}, Int64}}, vars::Vector{Variable{DynamicPolynomials.Commutative{DynamicPolynomials.CreationOrder}, Graded{LexOrder}}})\n",
      "    @ Main ~/Documents/GitHub/pendulum/julia/algorithm.ipynb:23\n",
      " [16] top-level scope\n",
      "    @ ~/Documents/GitHub/pendulum/julia/algorithm.ipynb:12"
     ]
    }
   ],
   "source": [
    "@polyvar x y u v l\n",
    "vars = [x, y, u, v, l]\n",
    "ps = [\n",
    "    u,\n",
    "    v, \n",
    "    l*x,\n",
    "    l*y - 1,\n",
    "    0\n",
    "] \n",
    "\n",
    "q = [x^2 + y^2 - 1]\n",
    "G = algorithm_i(q, ps, vars)"
   ]
  },
  {
   "cell_type": "code",
   "execution_count": 7,
   "metadata": {},
   "outputs": [],
   "source": []
  },
  {
   "cell_type": "code",
   "execution_count": null,
   "metadata": {},
   "outputs": [],
   "source": []
  }
 ],
 "metadata": {
  "kernelspec": {
   "display_name": "Julia 1.9.3",
   "language": "julia",
   "name": "julia-1.9"
  },
  "language_info": {
   "file_extension": ".jl",
   "mimetype": "application/julia",
   "name": "julia",
   "version": "1.9.3"
  }
 },
 "nbformat": 4,
 "nbformat_minor": 2
}
