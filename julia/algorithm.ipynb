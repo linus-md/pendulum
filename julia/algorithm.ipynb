{
 "cells": [
  {
   "cell_type": "code",
   "execution_count": 57,
   "metadata": {},
   "outputs": [],
   "source": [
    "using Groebner\n",
    "using DynamicPolynomials\n",
    "\n",
    "\n",
    "function diff_op(q, ps, vars)\n",
    "    partial_q = 0\n",
    "    for (i, pi) in enumerate(ps)\n",
    "        partial_q =  partial_q + pi * differentiate(q, vars[i])\n",
    "    end\n",
    "    return partial_q\n",
    "end;\n",
    "\n",
    "function algorithm_i(q, ps, vars)\n",
    "    S = q\n",
    "    g = q\n",
    "    G = groebner(S, vars) # fix ordering later TODO\n",
    "    while true\n",
    "        g = diff_op(S, ps, vars)\n",
    "        g = g // G\n",
    "        if g == 0\n",
    "            return G\n",
    "        else\n",
    "            S = S + g\n",
    "            G = groebner(S, vars)\n",
    "        end\n",
    "    end    \n",
    "end;"
   ]
  },
  {
   "cell_type": "code",
   "execution_count": 58,
   "metadata": {},
   "outputs": [
    {
     "ename": "MethodError",
     "evalue": "MethodError: no method matching groebner(::DynamicPolynomials.Polynomial{DynamicPolynomials.Commutative{DynamicPolynomials.CreationOrder}, Graded{LexOrder}, Int64}, ::Vector{Variable{DynamicPolynomials.Commutative{DynamicPolynomials.CreationOrder}, Graded{LexOrder}}})",
     "output_type": "error",
     "traceback": [
      "MethodError: no method matching groebner(::DynamicPolynomials.Polynomial{DynamicPolynomials.Commutative{DynamicPolynomials.CreationOrder}, Graded{LexOrder}, Int64}, ::Vector{Variable{DynamicPolynomials.Commutative{DynamicPolynomials.CreationOrder}, Graded{LexOrder}}})\n",
      "\n",
      "Stacktrace:\n",
      " [1] algorithm_i(q::DynamicPolynomials.Polynomial{DynamicPolynomials.Commutative{DynamicPolynomials.CreationOrder}, Graded{LexOrder}, Int64}, ps::Vector{DynamicPolynomials.Polynomial{DynamicPolynomials.Commutative{DynamicPolynomials.CreationOrder}, Graded{LexOrder}, Int64}}, vars::Vector{Variable{DynamicPolynomials.Commutative{DynamicPolynomials.CreationOrder}, Graded{LexOrder}}})\n",
      "   @ Main ~/Documents/GitHub/pendulum/julia/algorithm.ipynb:16\n",
      " [2] top-level scope\n",
      "   @ ~/Documents/GitHub/pendulum/julia/algorithm.ipynb:13"
     ]
    }
   ],
   "source": [
    "\n",
    "@polyvar x y u v l\n",
    "vars = [x, y, u, v, l]\n",
    "ps = [\n",
    "    u,\n",
    "    v, \n",
    "    l*x,\n",
    "    l*y - 1,\n",
    "    0\n",
    "] \n",
    "\n",
    "q = x^2 + y^2 - 1\n",
    "G = algorithm_i(q, ps, vars)"
   ]
  },
  {
   "cell_type": "code",
   "execution_count": null,
   "metadata": {},
   "outputs": [],
   "source": []
  }
 ],
 "metadata": {
  "kernelspec": {
   "display_name": "Julia 1.9.3",
   "language": "julia",
   "name": "julia-1.9"
  },
  "language_info": {
   "file_extension": ".jl",
   "mimetype": "application/julia",
   "name": "julia",
   "version": "1.9.3"
  }
 },
 "nbformat": 4,
 "nbformat_minor": 2
}
