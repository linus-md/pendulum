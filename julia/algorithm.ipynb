{
 "cells": [
  {
   "cell_type": "code",
   "execution_count": 2,
   "metadata": {},
   "outputs": [
    {
     "name": "stdout",
     "output_type": "stream",
     "text": [
      "AbstractAlgebra.Generic.MPoly{Rational{BigInt}}[2*x*u + 2*y*v, 2*x*u]\n",
      "AbstractAlgebra.Generic.MPoly{Rational{BigInt}}[-2*y + 2*l, -2*l]\n",
      "AbstractAlgebra.Generic.MPoly{Rational{BigInt}}[0, 0]\n",
      "AbstractAlgebra.Generic.MPoly{Rational{BigInt}}[1]\n"
     ]
    }
   ],
   "source": [
    "using Groebner\n",
    "using AbstractAlgebra\n",
    "\n",
    "function diff_op(q, ps)\n",
    "    partial_q = 0\n",
    "    for (i, pi) in enumerate(ps)\n",
    "        partial_q =  partial_q + pi * derivative(q, i)\n",
    "    end\n",
    "    return partial_q\n",
    "end;\n",
    "\n",
    "function algorithm_i(q, ps)\n",
    "    S = q\n",
    "    g = q\n",
    "    G = groebner(S)\n",
    "    while true\n",
    "        g = [diff_op(gi, ps) for gi in g]\n",
    "        g = [normalform(G, gi) for gi in g]\n",
    "        println(g)\n",
    "        if all(g .== 0)\n",
    "            return G\n",
    "        else\n",
    "            append!(S, g)\n",
    "            G = groebner(S)\n",
    "        end\n",
    "    end    \n",
    "end;\n",
    "\n",
    "R, (x, y, u, v, l) = polynomial_ring(QQ, [\"x\", \"y\", \"u\", \"v\", \"l\"],\n",
    "                                     internal_ordering=:degrevlex)\n",
    "ps = [\n",
    "    u,\n",
    "    v, \n",
    "    l*x,\n",
    "    l*y - 1,\n",
    "    0\n",
    "] \n",
    "\n",
    "q = [x^2 + y^2 - 1]\n",
    "G = algorithm_i(q, ps)\n",
    "println(G)"
   ]
  },
  {
   "cell_type": "code",
   "execution_count": 14,
   "metadata": {},
   "outputs": [],
   "source": []
  }
 ],
 "metadata": {
  "kernelspec": {
   "display_name": "Julia 1.9.3",
   "language": "julia",
   "name": "julia-1.9"
  },
  "language_info": {
   "file_extension": ".jl",
   "mimetype": "application/julia",
   "name": "julia",
   "version": "1.9.3"
  }
 },
 "nbformat": 4,
 "nbformat_minor": 2
}
