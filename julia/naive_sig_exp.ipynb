{
 "cells": [
  {
   "cell_type": "code",
   "execution_count": 1,
   "metadata": {},
   "outputs": [
    {
     "name": "stderr",
     "output_type": "stream",
     "text": [
      "\u001b[32m\u001b[1m  Activating\u001b[22m\u001b[39m project at `~/signatures`\n"
     ]
    }
   ],
   "source": [
    "using Pkg\n",
    "Pkg.activate(\"/Users/linussommer/signatures\")\n",
    "\n",
    "using AbstractAlgebra: derivative\n",
    "using AlgebraicSolving\n",
    "using AlgebraicSolving: _homogenize\n",
    "\n",
    "# This is a first implementation of a signature based algorithm.\n",
    "# It just substitutes the signature methods into the naive algorithm.\n",
    "# Some homogenization is necessary.\n",
    "\n",
    "\n",
    "\"\"\"\n",
    "    Given a sigset return only the polynomial parts of the sigpairs.\n",
    "\"\"\"\n",
    "function natural(sigset)\n",
    "    return [sigpair[2] for sigpair in sigset]\n",
    "end;\n",
    "\n",
    "\"\"\"\n",
    "    Given a system with an additional variable x_{n+1} for homogenization\n",
    "    evaluate all polynomials at (x1, x2, ..., xn, 1).\n",
    "\"\"\"\n",
    "function dehomogenize(system, subring, variables)\n",
    "    # TODO deal with signatures\n",
    "    systemnew = []\n",
    "    for polynomial in system\n",
    "        if parent(polynomial) != subring\n",
    "            push!(systemnew, polynomial(variables..., 1))\n",
    "        else\n",
    "            push!(systemnew, polynomial)\n",
    "        end\n",
    "    end\n",
    "    # This narrows the type form Vector{Any} to Vector{fpMPolyRingElem}\n",
    "    systemnew = identity.(systemnew)\n",
    "    return systemnew\n",
    "end\n",
    "\n",
    "\"\"\"\n",
    "    Given a system with `n`` variables and `n` polynomial equations define a\n",
    "    linear differential operator `patial`.\n",
    "\"\"\"\n",
    "function partial(polynomial, differentials)\n",
    "    partial_polynomial = 0\n",
    "    for (i, differential) in enumerate(differentials)\n",
    "        partial_polynomial += differential * derivative(polynomial, i)\n",
    "    end\n",
    "    return partial_polynomial\n",
    "end;"
   ]
  },
  {
   "cell_type": "code",
   "execution_count": 2,
   "metadata": {},
   "outputs": [],
   "source": [
    "\"\"\"\n",
    "    Old algorithm without signatures.\n",
    "\"\"\"\n",
    "function algorithm_i(q, ps)\n",
    "    i = 0\n",
    "    S = q\n",
    "    g = q\n",
    "    G = groebner_basis(Ideal(S))\n",
    "    while true\n",
    "        i += 1\n",
    "        println(\"g = \", g)\n",
    "        g = [partial(gi, ps) for gi in g]\n",
    "        g = [normal_form(gi, Ideal(G)) for gi in g]\n",
    "        if all(g .== 0)\n",
    "            println(i, \"o\")\n",
    "            return G\n",
    "        else\n",
    "            append!(S, g)\n",
    "            G = groebner_basis(Ideal(S))\n",
    "            println(\"G = \",G)\n",
    "        end\n",
    "    end    \n",
    "end;"
   ]
  },
  {
   "cell_type": "code",
   "execution_count": 8,
   "metadata": {},
   "outputs": [],
   "source": [
    "\"\"\"\n",
    "    Given an ideal `I = <polynomials>` compute the Groebner basis of the \n",
    "    minimal ideal `J` s.t. `J` contains `I` and `J` is closed under `partial`.\n",
    "\"\"\"\n",
    "function naive_sig_algorithm(polynomials, differrentials, subring, variables)\n",
    "    i = 0\n",
    "    system = _homogenize(polynomials)\n",
    "    g = polynomials # This is should also be homogenious maybe?\n",
    "    groebnerbasis = sig_groebner_basis(system)\n",
    "    while true\n",
    "        i += 1\n",
    "        g = [partial(gi, differrentials) for gi in g]\n",
    "        # Without dehomogenizing the result does not correspond to the original algorithm\n",
    "        nGB = dehomogenize(natural(groebnerbasis), subring, variables)\n",
    "        # This does not use signatures\n",
    "        g = [normal_form(gi, Ideal(nGB)) for gi in g]\n",
    "        println(\"g = \", g)\n",
    "        if all(g .== 0)\n",
    "            println(i, \"s\")\n",
    "            return groebnerbasis\n",
    "        else\n",
    "            append!(system, g) # push vs append?\n",
    "            system = dehomogenize(system, subring, variables)\n",
    "            system = _homogenize(system)\n",
    "            # What happends to the previously computed signatures?\n",
    "            groebnerbasis = sig_groebner_basis(system)\n",
    "            println(\"G = \", natural(groebnerbasis))\n",
    "        end\n",
    "    end    \n",
    "    return groebnerbasis\n",
    "end;"
   ]
  },
  {
   "cell_type": "code",
   "execution_count": 9,
   "metadata": {},
   "outputs": [],
   "source": [
    "R, (x1, x2, x3, x4, x5) = polynomial_ring(\n",
    "    GF(65521), [\"x$i\" for i in 1:5], ordering=:degrevlex)\n",
    "differrentials = [x3, x4, x5*x1, x5*x2 - 1, R(0)] \n",
    "polynomials = [x1^2 + x2^2 - 1];"
   ]
  },
  {
   "cell_type": "code",
   "execution_count": 10,
   "metadata": {},
   "outputs": [
    {
     "name": "stdout",
     "output_type": "stream",
     "text": [
      "g = fpMPolyRingElem[2*x1*x3 + 2*x2*x4]\n",
      "G = fpMPolyRingElem[x1^2 + x2^2 + 65520*x6^2, x1*x3 + x2*x4, x2^2*x3 + 65520*x1*x2*x4 + 65520*x3*x6^2]\n",
      "g = fpMPolyRingElem[2*x3^2 + 2*x4^2 + 65519*x2 + 2*x5]\n",
      "G = fpMPolyRingElem[x1^2 + x2^2 + 65520*x6^2, x1*x3 + x2*x4, x3^2 + x4^2 + 65520*x2*x6 + x5*x6, x2^2*x3 + 65520*x1*x2*x4 + 65520*x3*x6^2, x2*x3*x4 + 65520*x1*x4^2 + x1*x2*x6 + 65520*x1*x5*x6, x2^3*x6 + 65520*x2^2*x5*x6 + x4^2*x6^2 + 65520*x2*x6^3 + x5*x6^3, x1*x2^2*x6 + 65520*x1*x2*x5*x6 + x3*x4*x6^2]\n",
      "g = fpMPolyRingElem[65515*x4]\n",
      "G = fpMPolyRingElem[x4, x1^2 + x2^2 + 65520*x6^2, x1*x3 + x2*x4, x3^2 + x4^2 + 65520*x2*x6 + x5*x6, x2^2*x3 + 65520*x1*x2*x4 + 65520*x3*x6^2, x2*x3*x4 + 65520*x1*x4^2 + x1*x2*x6 + 65520*x1*x5*x6, x1*x2*x6 + 65520*x1*x5*x6, x2^3*x6 + 65520*x2^2*x5*x6 + x4^2*x6^2 + 65520*x2*x6^3 + x5*x6^3, x1*x2^2*x6 + 65520*x1*x2*x5*x6 + x3*x4*x6^2]\n",
      "g = fpMPolyRingElem[65515*x2*x5 + 6]\n",
      "G = fpMPolyRingElem[x4, x1^2 + x2^2 + 65520*x6^2, x1*x3 + x2*x4, x3^2 + x4^2 + 65520*x2*x6 + x5*x6, x2*x5 + 65520*x6^2, x2^2*x3 + 65520*x1*x2*x4 + 65520*x3*x6^2, x2*x3*x4 + 65520*x1*x4^2 + x1*x2*x6 + 65520*x1*x5*x6, x1*x2*x6 + 65520*x1*x5*x6, x2^3*x6 + 65520*x2^2*x5*x6 + x4^2*x6^2 + 65520*x2*x6^3 + x5*x6^3, x1*x2^2*x6 + 65520*x1*x2*x5*x6 + x3*x4*x6^2, x1*x5^2*x6 + 65520*x1*x6^3, x2*x3*x6^2 + 65520*x3*x5*x6^2, x2^2*x6^3 + x5^2*x6^3 + 65519*x6^5, x3*x5^2*x6^2 + 65520*x3*x6^4, x5^3*x6^3 + x2*x6^5 + 65519*x5*x6^5]\n",
      "g = fpMPolyRingElem[0]\n",
      "5s\n",
      "fpMPolyRingElem[x4, x2*x5 + 65520, x3^2 + 65520*x2 + x5, x2*x3 + 65520*x3*x5, x1*x3, x2^2 + x5^2 + 65519, x1*x2 + 65520*x1*x5, x1^2 + 65520*x5^2 + 1, x5^3 + x2 + 65519*x5, x3*x5^2 + 65520*x3, x1*x5^2 + 65520*x1]\n",
      "11\n"
     ]
    }
   ],
   "source": [
    "G = naive_sig_algorithm(polynomials, differrentials, R, (x1, x2, x3, x4, x5))\n",
    "G = natural(G)\n",
    "G = dehomogenize(G, R, (x1, x2, x3, x4, x5))\n",
    "G = groebner_basis(Ideal(G))\n",
    "println(G)\n",
    "println(length(G))"
   ]
  },
  {
   "cell_type": "code",
   "execution_count": 6,
   "metadata": {},
   "outputs": [
    {
     "name": "stdout",
     "output_type": "stream",
     "text": [
      "g = fpMPolyRingElem[x1^2 + x2^2 + 65520]\n",
      "G = fpMPolyRingElem[x1*x3 + x2*x4, x1^2 + x2^2 + 65520, x2^2*x3 + 65520*x1*x2*x4 + 65520*x3]\n",
      "g = fpMPolyRingElem[2*x1*x3 + 2*x2*x4]\n",
      "G = fpMPolyRingElem[x3^2 + x4^2 + 65520*x2 + x5, x1*x3 + x2*x4, x1^2 + x2^2 + 65520, x2*x3*x4 + 65520*x1*x4^2 + x1*x2 + 65520*x1*x5, x2^2*x3 + 65520*x1*x2*x4 + 65520*x3, x2^3 + 65520*x2^2*x5 + x4^2 + 65520*x2 + x5, x1*x2^2 + 65520*x1*x2*x5 + x3*x4]\n",
      "g = fpMPolyRingElem[2*x3^2 + 2*x4^2 + 65519*x2 + 2*x5]\n",
      "G = fpMPolyRingElem[x4, x3^2 + 65520*x2 + x5, x1*x3, x1*x2 + 65520*x1*x5, x1^2 + x2^2 + 65520, x2^2*x3 + 65520*x3, x2^3 + 65520*x2^2*x5 + 65520*x2 + x5]\n",
      "g = fpMPolyRingElem[65515*x4]\n",
      "G = fpMPolyRingElem[x4, x2*x5 + 65520, x3^2 + 65520*x2 + x5, x2*x3 + 65520*x3*x5, x1*x3, x2^2 + x5^2 + 65519, x1*x2 + 65520*x1*x5, x1^2 + 65520*x5^2 + 1, x5^3 + x2 + 65519*x5, x3*x5^2 + 65520*x3, x1*x5^2 + 65520*x1]\n",
      "g = fpMPolyRingElem[65515*x2*x5 + 6]\n",
      "5o\n",
      "fpMPolyRingElem[x4, x2*x5 + 65520, x3^2 + 65520*x2 + x5, x2*x3 + 65520*x3*x5, x1*x3, x2^2 + x5^2 + 65519, x1*x2 + 65520*x1*x5, x1^2 + 65520*x5^2 + 1, x5^3 + x2 + 65519*x5, x3*x5^2 + 65520*x3, x1*x5^2 + 65520*x1]\n",
      "11\n"
     ]
    }
   ],
   "source": [
    "# What I want:\n",
    "# Also calling this breaks the above code somehow???\n",
    "G1 = algorithm_i(polynomials, differrentials)\n",
    "println(G1)\n",
    "println(length(G1))"
   ]
  },
  {
   "cell_type": "code",
   "execution_count": 7,
   "metadata": {},
   "outputs": [],
   "source": []
  }
 ],
 "metadata": {
  "kernelspec": {
   "display_name": "Julia 1.10.3",
   "language": "julia",
   "name": "julia-1.10"
  },
  "language_info": {
   "file_extension": ".jl",
   "mimetype": "application/julia",
   "name": "julia",
   "version": "1.10.3"
  }
 },
 "nbformat": 4,
 "nbformat_minor": 2
}
