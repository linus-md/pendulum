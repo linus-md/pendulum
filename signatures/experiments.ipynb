{
 "cells": [
  {
   "cell_type": "code",
   "execution_count": 22,
   "metadata": {},
   "outputs": [
    {
     "name": "stderr",
     "output_type": "stream",
     "text": [
      "WARNING: using AbstractAlgebra.Ideal in module Main conflicts with an existing identifier.\n",
      "WARNING: using AbstractAlgebra.vars in module Main conflicts with an existing identifier.\n",
      "WARNING: using AbstractAlgebra.GF in module Main conflicts with an existing identifier.\n"
     ]
    }
   ],
   "source": [
    "using AbstractAlgebra\n",
    "using AlgebraicSolving"
   ]
  },
  {
   "cell_type": "code",
   "execution_count": 46,
   "metadata": {},
   "outputs": [
    {
     "data": {
      "text/plain": [
       "7-element Vector{fpMPolyRingElem}:\n",
       " x1 + x2 + x3 + x4\n",
       " x2^2 + 2*x2*x4 + x4^2\n",
       " x2*x3^2 + x3^2*x4 + 65520*x2*x4^2 + 65520*x4^3\n",
       " x2*x3*x4^2 + x3^2*x4^2 + 65520*x2*x4^3 + x3*x4^3 + 65520*x4^4 + 65520\n",
       " x2*x4^4 + x4^5 + 65520*x2 + 65520*x4\n",
       " x3^3*x4^2 + x3^2*x4^3 + 65520*x3 + 65520*x4\n",
       " x3^2*x4^4 + x2*x3 + 65520*x2*x4 + x3*x4 + 65519*x4^2"
      ]
     },
     "metadata": {},
     "output_type": "display_data"
    }
   ],
   "source": [
    "R, vars = polynomial_ring(GF(65521), [\"x$i\" for i in 1:4])\n",
    "F = AlgebraicSolving.cyclic(R)\n",
    "groebner_basis(F)"
   ]
  },
  {
   "cell_type": "code",
   "execution_count": 49,
   "metadata": {},
   "outputs": [
    {
     "data": {
      "text/plain": [
       "3-element Vector{Tuple{Tuple{Int64, fpMPolyRingElem}, fpMPolyRingElem}}:\n",
       " ((1, 1), x1^2 + x2^2 + 65520*x6^2)\n",
       " ((2, 1), x1*x3 + x2*x4)\n",
       " ((2, x1), x2^2*x3 + 65520*x1*x2*x4 + 65520*x3*x6^2)"
      ]
     },
     "metadata": {},
     "output_type": "display_data"
    }
   ],
   "source": [
    "R, (x, y, u, v, l) = polynomial_ring(GF(65521),[\"x\",\"y\",\"u\",\"v\",\"l\"], ordering=:degrevlex)\n",
    "F = [x^2+y^2-1, 2*x*u+2*y*v]\n",
    "F_hom = AlgebraicSolving._homogenize(F)\n",
    "sol = sig_groebner_basis(F_hom)"
   ]
  },
  {
   "cell_type": "code",
   "execution_count": 35,
   "metadata": {},
   "outputs": [],
   "source": [
    "function partial(q, ps)\n",
    "    partial_q = 0\n",
    "    for (i, pi) in enumerate(ps)\n",
    "        partial_q =  partial_q + pi * derivative(q, i)\n",
    "    end\n",
    "    return partial_q\n",
    "end;"
   ]
  },
  {
   "cell_type": "code",
   "execution_count": 77,
   "metadata": {},
   "outputs": [],
   "source": [
    "function naive_algorithm(q, ps)\n",
    "    i = 0 \n",
    "    S = q\n",
    "    g = q\n",
    "    G = groebner_basis(Ideal(S))\n",
    "    while true\n",
    "        g = [partial(gi, ps) for gi in g]\n",
    "        g = [AlgebraicSolving.normal_form(gi, Ideal(G)) for gi in g]\n",
    "        if all(g .== 0)\n",
    "            return G\n",
    "        else\n",
    "            append!(S, g)\n",
    "            G = groebner_basis(Ideal(S))\n",
    "        end\n",
    "    end    \n",
    "end;"
   ]
  },
  {
   "cell_type": "code",
   "execution_count": 80,
   "metadata": {},
   "outputs": [
    {
     "name": "stdout",
     "output_type": "stream",
     "text": [
      "fpMPolyRingElem[v, y*l + 65520, u^2 + 65520*y + l, y*u + 65520*u*l, x*u, y^2 + l^2 + 65519, x*y + 65520*x*l, x^2 + 65520*l^2 + 1, l^3 + y + 65519*l, u*l^2 + 65520*u, x*l^2 + 65520*x]\n"
     ]
    }
   ],
   "source": [
    "R, (x, y, u, v, l) = polynomial_ring(GF(65521),[\"x\",\"y\",\"u\",\"v\",\"l\"], ordering=:degrevlex)\n",
    "ps = [\n",
    "    u,\n",
    "    v, \n",
    "    l*x,\n",
    "    l*y - 1,\n",
    "    0\n",
    "] \n",
    "\n",
    "q = [x^2 + y^2 - 1]\n",
    "G = naive_algorithm(q, ps)\n",
    "println(G)"
   ]
  },
  {
   "cell_type": "code",
   "execution_count": null,
   "metadata": {},
   "outputs": [],
   "source": []
  }
 ],
 "metadata": {
  "kernelspec": {
   "display_name": "Julia 1.10.3",
   "language": "julia",
   "name": "julia-1.10"
  },
  "language_info": {
   "file_extension": ".jl",
   "mimetype": "application/julia",
   "name": "julia",
   "version": "1.10.3"
  }
 },
 "nbformat": 4,
 "nbformat_minor": 2
}
