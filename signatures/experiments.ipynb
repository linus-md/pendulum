{
 "cells": [
  {
   "cell_type": "code",
   "execution_count": 4,
   "metadata": {},
   "outputs": [
    {
     "name": "stderr",
     "output_type": "stream",
     "text": [
      "\u001b[32m\u001b[1m  Activating\u001b[22m\u001b[39m project at `~/signatures`\n"
     ]
    },
    {
     "ename": "UndefVarError",
     "evalue": "UndefVarError: `GF` not defined",
     "output_type": "error",
     "traceback": [
      "UndefVarError: `GF` not defined\n",
      "\n",
      "Stacktrace:\n",
      " [1] top-level scope\n",
      "   @ ~/Documents/GitHub/pendulum/signatures/experiments.ipynb:6"
     ]
    }
   ],
   "source": [
    "#using AbstractAlgebra\n",
    "using Pkg\n",
    "Pkg.activate(\"/Users/linussommer/signatures\")\n",
    "using AlgebraicSolving\n",
    "\n",
    "R, (x1, x2, x3, x4, x5) = polynomial_ring(GF(17), [\"x$i\" for i in 1:5])\n",
    "F = [x3, x4, x1, x2-1, 0*x1]\n",
    "F_hom = AlgebraicSolving._homogenize(F)\n",
    "sol = sig_groebner_basis(F_hom)"
   ]
  },
  {
   "cell_type": "code",
   "execution_count": null,
   "metadata": {},
   "outputs": [],
   "source": []
  }
 ],
 "metadata": {
  "kernelspec": {
   "display_name": "Julia 1.10.3",
   "language": "julia",
   "name": "julia-1.10"
  },
  "language_info": {
   "file_extension": ".jl",
   "mimetype": "application/julia",
   "name": "julia",
   "version": "1.10.3"
  }
 },
 "nbformat": 4,
 "nbformat_minor": 2
}
