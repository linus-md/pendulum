{
 "cells": [
  {
   "cell_type": "code",
   "execution_count": 154,
   "metadata": {},
   "outputs": [
    {
     "name": "stderr",
     "output_type": "stream",
     "text": [
      "\u001b[32m\u001b[1m  Activating\u001b[22m\u001b[39m project at `~/signatures`\n"
     ]
    }
   ],
   "source": [
    "# TODO watch out with S=System / S=Subring notation\n",
    "\n",
    "using Pkg\n",
    "Pkg.activate(\"/Users/linussommer/signatures\")\n",
    "\n",
    "using AbstractAlgebra: derivative\n",
    "using AlgebraicSolving\n",
    "\n",
    "function natural(G)\n",
    "    return [sigpair[2] for sigpair in G]\n",
    "end;\n",
    "\n",
    "function dehomogenize(S, R, var)\n",
    "    return G\n",
    "end\n",
    "\n",
    "function rehomogenize(S, R, var)\n",
    "    # TODO split this up\n",
    "    S_new = []\n",
    "    for s in S\n",
    "        if parent(s) != R\n",
    "            push!(S_new, s(var..., 1))\n",
    "        else\n",
    "            push!(S_new, s)\n",
    "        end\n",
    "    end\n",
    "    S_new = identity.(S_new) # this is necessary because of the vector type...?\n",
    "    return AlgebraicSolving._homogenize(S_new)\n",
    "end;\n",
    "\n",
    "function partial(q, ps)\n",
    "    partial_q = 0\n",
    "    for (i, pi) in enumerate(ps)\n",
    "        partial_q =  partial_q + pi * derivative(q, i)\n",
    "    end\n",
    "    return partial_q\n",
    "end;\n",
    "\n",
    "function naive_sig_algorithm(qs, ps, R, var)\n",
    "    S = AlgebraicSolving._homogenize(qs)\n",
    "    g = qs\n",
    "    G = sig_groebner_basis(S)\n",
    "    while true\n",
    "        g = [partial(gi, ps) for gi in g]\n",
    "        g = [AlgebraicSolving.normal_form(gi, Ideal(natural(G))) for gi in g]\n",
    "        if all(g .== 0)\n",
    "            return G\n",
    "        else\n",
    "            append!(S, g)\n",
    "            S = rehomogenize(S, R, var)\n",
    "            G = sig_groebner_basis(S)\n",
    "        end\n",
    "    end    \n",
    "    G = dehomogenize(G, R, var)\n",
    "    return G\n",
    "end;"
   ]
  },
  {
   "cell_type": "code",
   "execution_count": 182,
   "metadata": {},
   "outputs": [],
   "source": [
    "R, (x1, x2, x3, x4, x5) = polynomial_ring(GF(65521),[\"x$i\" for i in 1:5], ordering=:degrevlex)\n",
    "ps = [x3, x4, x5*x1, x5*x2 - 1, 0] \n",
    "qs = [x1^2 + x2^2 - 1, x1]\n",
    "\n",
    "G = naive_sig_algorithm(qs, ps, R, (x1, x2, x3, x4, x5))"
   ]
  },
  {
   "cell_type": "code",
   "execution_count": 181,
   "metadata": {},
   "outputs": [
    {
     "data": {
      "text/plain": [
       "143-element Vector{fpMPolyRingElem}:\n",
       " x1^2 + x2^2 + 65520\n",
       " x1*x3 + x2*x4\n",
       " x4^2 + 65520*x5^2 + 65520*x2 + x5 + 1\n",
       " x2*x4*x5 + 32760*x3*x5^2 + 49140*x4\n",
       " x2^2*x3 + 65520*x1*x2*x4 + 65520*x3\n",
       " x2^2*x5^2 + 32760*x1*x5^3 + x5^3 + 49140*x2*x5 + 65520*x5^2 + 65520*x5 + 16381\n",
       " x3*x5^3 + 32760*x4*x5\n",
       " x4*x5^3\n",
       " x1*x5^4 + 32760*x2*x5^2 + 32761*x5\n",
       " x3*x4*x5^2 + 65519*x2*x5^3 + 65519*x2^2*x5 + 2*x2*x5^2 + 2*x2*x5 + 32762*x5^2 + 32762*x2 + 32759*x5 + 32759\n",
       " ⋮\n",
       " x3^3 + 43682*x3^2*x4 + 9*x2*x3*x5 + 65512*x1*x4*x5 + 21848*x3*x5^2 + 12*x4*x5^2 + 21856*x2*x3 + 65513*x1*x4 + 21855*x2*x4 + 21826*x3*x5 + 65507*x4*x5 + 43665*x3 + 65507*x4\n",
       " x2^4 + 32760*x1*x2^2*x5 + 2*x2^3 + 55283*x2*x3*x4 + 65520*x1*x2*x5 + 16378*x2^2*x5 + 4095*x3^2*x5 + 40952*x3*x4*x5 + 26620*x1*x5^2 + 49138*x2*x5^2 + 26618*x1*x2 + 32753*x2^2 + 40949*x3*x4 + 6144*x1*x5 + 8*x2*x5 + 12281*x5^2 + 38903*x1 + 28665*x2 + 36859*x5 + 20478\n",
       " x1*x2^3 + 65520*x1*x2^2*x5 + 49140*x5^4 + 16379*x1*x2^2 + 57335*x2^3 + 25082*x2*x3^2 + 4094*x2*x3*x4 + 53236*x1*x2*x5 + 8186*x2^2*x5 + 40439*x3^2*x5 + 40954*x3*x4*x5 + 8192*x1*x5^2 + 57836*x2*x5^2 + 50678*x5^3 + 28666*x1*x2 + 25073*x2^2 + 51188*x3^2 + 48115*x3*x4 + 32762*x1*x5 + 3084*x2*x5 + 59889*x5^2 + 4094*x1 + 28157*x2 + 59892*x5 + 59377\n",
       " x3^2*x4 + 63332*x2*x3 + 43680*x1*x4 + 15302*x2*x4 + 58968*x3*x5 + 32751*x4*x5 + 61156*x3 + 43662*x4\n",
       " x1*x2*x4 + 40951*x3^2*x4 + 32759*x2*x3*x5 + 32760*x1*x4*x5 + 49143*x3*x5^2 + 8192*x4*x5^2 + 32761*x2*x3 + 32760*x1*x4 + 8193*x2*x4 + 32760*x3*x5 + 57328*x4*x5 + 32760*x3 + 8188*x4\n",
       " x2^4 + 32760*x1*x2^2*x5 + 2*x2^3 + 55283*x2*x3*x4 + 65520*x1*x2*x5 + 16378*x2^2*x5 + 4095*x3^2*x5 + 40952*x3*x4*x5 + 26620*x1*x5^2 + 49138*x2*x5^2 + 26618*x1*x2 + 32753*x2^2 + 40949*x3*x4 + 6144*x1*x5 + 8*x2*x5 + 12281*x5^2 + 38903*x1 + 28665*x2 + 36859*x5 + 20478\n",
       " x1*x2^3 + 65520*x1*x2^2*x5 + 49140*x5^4 + 16379*x1*x2^2 + 57335*x2^3 + 25082*x2*x3^2 + 4094*x2*x3*x4 + 53236*x1*x2*x5 + 8186*x2^2*x5 + 40439*x3^2*x5 + 40954*x3*x4*x5 + 8192*x1*x5^2 + 57836*x2*x5^2 + 50678*x5^3 + 28666*x1*x2 + 25073*x2^2 + 51188*x3^2 + 48115*x3*x4 + 32762*x1*x5 + 3084*x2*x5 + 59889*x5^2 + 4094*x1 + 28157*x2 + 59892*x5 + 59377\n",
       " x3^3*x4 + 16*x5^4 + 43758*x2^3 + 43683*x2*x3^2 + 16396*x2*x3*x4 + 43642*x1*x2*x5 + 21763*x2^2*x5 + 10923*x3^2*x5 + 21862*x3*x4*x5 + 49161*x1*x5^2 + 21800*x2*x5^2 + 43625*x5^3 + 27282*x1*x2 + 43547*x2^2 + 21839*x3^2 + 65484*x3*x4 + 60118*x1*x5 + 152*x2*x5 + 43627*x5^2 + 38239*x1 + 65500*x2 + 117*x5 + 43700\n",
       " x3^3*x4 + 16*x5^4 + 43758*x2^3 + 43683*x2*x3^2 + 16396*x2*x3*x4 + 43642*x1*x2*x5 + 21763*x2^2*x5 + 10923*x3^2*x5 + 21862*x3*x4*x5 + 49161*x1*x5^2 + 21800*x2*x5^2 + 43625*x5^3 + 27282*x1*x2 + 43547*x2^2 + 21839*x3^2 + 65484*x3*x4 + 60118*x1*x5 + 152*x2*x5 + 43627*x5^2 + 38239*x1 + 65500*x2 + 117*x5 + 43700"
      ]
     },
     "metadata": {},
     "output_type": "display_data"
    }
   ],
   "source": [
    "G_p = natural(G)\n",
    "G_pp = []\n",
    "for g in G_p\n",
    "    push!(G_pp, g(x1, x2, x3, x4, x5, 1))\n",
    "end\n",
    "G_pp = identity.(G_pp)"
   ]
  },
  {
   "cell_type": "code",
   "execution_count": 173,
   "metadata": {},
   "outputs": [
    {
     "data": {
      "text/plain": [
       "5-element Vector{fpMPolyRingElem}:\n",
       " x4\n",
       " x3\n",
       " x2 + 65520*x5\n",
       " x1\n",
       " x5^2 + 65520"
      ]
     },
     "metadata": {},
     "output_type": "display_data"
    }
   ],
   "source": [
    "groebner_basis(Ideal(G_pp))"
   ]
  }
 ],
 "metadata": {
  "kernelspec": {
   "display_name": "Julia 1.10.3",
   "language": "julia",
   "name": "julia-1.10"
  },
  "language_info": {
   "file_extension": ".jl",
   "mimetype": "application/julia",
   "name": "julia",
   "version": "1.10.3"
  }
 },
 "nbformat": 4,
 "nbformat_minor": 2
}
