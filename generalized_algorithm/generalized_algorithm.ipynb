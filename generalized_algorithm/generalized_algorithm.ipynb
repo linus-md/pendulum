{
 "cells": [
  {
   "cell_type": "code",
   "execution_count": 1,
   "metadata": {},
   "outputs": [],
   "source": [
    "from sage.all import QQ, PolynomialRing, ideal\n",
    "\n",
    "def partial(f, derivatives, S, R):\n",
    "    vars = S.gens()\n",
    "    return sum([derivatives[i] * f.derivative(R(var)) for i, var in enumerate(vars)])\n",
    "\n",
    "def intersect(J, R, S):\n",
    "    vars = S.gens()\n",
    "    J = J.groebner_basis()\n",
    "    J_S = []\n",
    "    for f in J:\n",
    "        if set(f.variables()).issubset(vars):\n",
    "            J_S.append(f)\n",
    "    return ideal(R, J_S)\n",
    "\n",
    "def gen_alg(I, derivatives, S, R):\n",
    "    J1 = ideal(I)\n",
    "    J_S = intersect(J1, R, S)\n",
    "    J2 = J1 + ideal([partial(f, derivatives, S, R) for f in J_S.gens()])\n",
    "    while J1 != J2:\n",
    "        J1 = J2\n",
    "        J_S = intersect(J1, R, S)\n",
    "        J2 = J1 + ideal([partial(f, derivatives, S, R) for f in J_S.gens()])\n",
    "    return J1"
   ]
  },
  {
   "cell_type": "code",
   "execution_count": 2,
   "metadata": {},
   "outputs": [
    {
     "name": "stdout",
     "output_type": "stream",
     "text": [
      "dl - 3*v\n",
      "l + v^2 + u^2 - y\n",
      "y*v + x*u\n",
      "x^2*v - v - x*y*u\n",
      "y^2 + x^2 - 1\n"
     ]
    }
   ],
   "source": [
    "R = PolynomialRing(QQ, 'x, y, u, v, l, dl', order='invlex')\n",
    "S = PolynomialRing(QQ, 'x, y, u, v, l', order='invlex')\n",
    "derivatives = [R('u'), R('v'), R('l*x'), R('l*y - 1'), R('dl')]\n",
    "q = R('x^2 + y^2 - 1')\n",
    "J = gen_alg(q, derivatives, S, R)\n",
    "G = J.groebner_basis()\n",
    "for g in G:\n",
    "    print(g)"
   ]
  },
  {
   "cell_type": "code",
   "execution_count": null,
   "metadata": {},
   "outputs": [],
   "source": []
  },
  {
   "cell_type": "code",
   "execution_count": 3,
   "metadata": {},
   "outputs": [
    {
     "name": "stdout",
     "output_type": "stream",
     "text": [
      "v2^2*dl + v1^2*dl + 1/2*dl - 8*p2*v2*l^2 - 8*p1*v1*l^2\n",
      "p2^2*dl + p1^2*dl + 1/4*dl + 4*p2*v2*l + 4*p1*v1*l\n",
      "p2^2*l + p1^2*l + 1/4*l + 1/2*v2^2 + 1/2*v1^2 + 1/4\n",
      "v3 - 2*p2*v2 - 2*p1*v1\n",
      "p3 - p2^2 - p1^2\n"
     ]
    }
   ],
   "source": [
    "R = PolynomialRing(QQ, 'p1, p2, p3, v1, v2, v3, l, dl', order='invlex')\n",
    "S = PolynomialRing(QQ, 'p1, p2, p3, v1, v2, v3, l', order='invlex')\n",
    "derivatives = [R('v1'), R('v2'), R('v3'), R('2*l*p1'), R('2*l*p2'), R('- l - 1'), R('dl')]\n",
    "q = R('p1^2 + p2^2 - p3')\n",
    "J = gen_alg(q, derivatives, S, R)\n",
    "G = J.groebner_basis()\n",
    "for g in G:\n",
    "    print(g)"
   ]
  },
  {
   "cell_type": "code",
   "execution_count": 4,
   "metadata": {},
   "outputs": [],
   "source": [
    "R = PolynomialRing(QQ, 'x1, y1, u1, v1, x2, y2, u2, v2, l1, l2, dl1, dl2', \n",
    "                       order='invlex')\n",
    "\n",
    "S = PolynomialRing(QQ, 'x1, y1, u1, v1, x2, y2, u2, v2, l1, l2', \n",
    "                       order='invlex')\n",
    "\n",
    "pi = [\n",
    "    R('u1'),\n",
    "    R('v1'),\n",
    "    R('- l1*x1 - l2*(x1 - x2)'),\n",
    "    R('- l1*y1 - l2*(y1 - y2) - 1'),\n",
    "    R('u2'),\n",
    "    R('v2'),\n",
    "    R('- l2*(x2 - x1)'),\n",
    "    R('- l2*(y2 - y1) - 1'),\n",
    "    R('dl1'),\n",
    "    R('dl2')\n",
    "    ]\n",
    "\n",
    "qi = [R('x1^2 + y1^2 - 1'), R('(x2 - x1)^2 + (y2 - y1)^2 - 1')]\n",
    "\n",
    "J = gen_alg(qi, pi, S, R)\n",
    "G = J.groebner_basis()\n",
    "for g in G:\n",
    "    print(g)"
   ]
  },
  {
   "cell_type": "code",
   "execution_count": null,
   "metadata": {},
   "outputs": [],
   "source": []
  }
 ],
 "metadata": {
  "kernelspec": {
   "display_name": "sage",
   "language": "python",
   "name": "python3"
  },
  "language_info": {
   "codemirror_mode": {
    "name": "ipython",
    "version": 3
   },
   "file_extension": ".py",
   "mimetype": "text/x-python",
   "name": "python",
   "nbconvert_exporter": "python",
   "pygments_lexer": "ipython3",
   "version": "3.10.14"
  }
 },
 "nbformat": 4,
 "nbformat_minor": 2
}
