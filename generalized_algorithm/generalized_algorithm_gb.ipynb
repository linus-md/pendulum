{
 "cells": [
  {
   "cell_type": "code",
   "execution_count": 10,
   "metadata": {},
   "outputs": [],
   "source": [
    "from sage.all import QQ, PolynomialRing, ideal\n",
    "\n",
    "def partial(F, derivatives, S, R):\n",
    "    vars = S.gens()\n",
    "    dF = []\n",
    "    for f in F.gens():\n",
    "        dF.append(sum([derivatives[i] * f.derivative(R(var)) for i, var in enumerate(vars)]))\n",
    "    return dF\n",
    "\n",
    "def intersect(G, S):\n",
    "    #G must be a Gröbner basis\n",
    "    vars = S.gens()\n",
    "    G_S = []\n",
    "    for g in G:\n",
    "        if set(g.variables()).issubset(vars):\n",
    "            G_S.append(g)\n",
    "    return ideal(G_S)\n",
    "\n",
    "def gen_alg(I, derivatives, S, R):\n",
    "    G1 = ideal(I).groebner_basis()\n",
    "    G_S = intersect(G1, S)\n",
    "    G2 = ideal(G1 + partial(G_S, derivatives, S, R)).groebner_basis()\n",
    "    while G1 != G2:\n",
    "        G1 = G2\n",
    "        G_S = intersect(G1, S)\n",
    "        G2 = ideal(G1 + partial(G_S, derivatives, S, R)).groebner_basis()\n",
    "    return G1"
   ]
  },
  {
   "cell_type": "code",
   "execution_count": 11,
   "metadata": {},
   "outputs": [
    {
     "ename": "ValueError",
     "evalue": "unable to determine which ring to embed the ideal in",
     "output_type": "error",
     "traceback": [
      "\u001b[0;31m---------------------------------------------------------------------------\u001b[0m",
      "\u001b[0;31mValueError\u001b[0m                                Traceback (most recent call last)",
      "Cell \u001b[0;32mIn[11], line 5\u001b[0m\n\u001b[1;32m      3\u001b[0m derivatives \u001b[38;5;241m=\u001b[39m [R(\u001b[38;5;124m'\u001b[39m\u001b[38;5;124mu\u001b[39m\u001b[38;5;124m'\u001b[39m), R(\u001b[38;5;124m'\u001b[39m\u001b[38;5;124mv\u001b[39m\u001b[38;5;124m'\u001b[39m), R(\u001b[38;5;124m'\u001b[39m\u001b[38;5;124ml*x\u001b[39m\u001b[38;5;124m'\u001b[39m), R(\u001b[38;5;124m'\u001b[39m\u001b[38;5;124ml*y - 1\u001b[39m\u001b[38;5;124m'\u001b[39m), R(\u001b[38;5;124m'\u001b[39m\u001b[38;5;124mdl\u001b[39m\u001b[38;5;124m'\u001b[39m)]\n\u001b[1;32m      4\u001b[0m q \u001b[38;5;241m=\u001b[39m R(\u001b[38;5;124m'\u001b[39m\u001b[38;5;124mx^2 + y^2 - 1\u001b[39m\u001b[38;5;124m'\u001b[39m)\n\u001b[0;32m----> 5\u001b[0m J \u001b[38;5;241m=\u001b[39m \u001b[43mgen_alg\u001b[49m\u001b[43m(\u001b[49m\u001b[43mq\u001b[49m\u001b[43m,\u001b[49m\u001b[43m \u001b[49m\u001b[43mderivatives\u001b[49m\u001b[43m,\u001b[49m\u001b[43m \u001b[49m\u001b[43mS\u001b[49m\u001b[43m,\u001b[49m\u001b[43m \u001b[49m\u001b[43mR\u001b[49m\u001b[43m)\u001b[49m\n\u001b[1;32m      6\u001b[0m G \u001b[38;5;241m=\u001b[39m J\u001b[38;5;241m.\u001b[39mgroebner_basis()\n\u001b[1;32m      7\u001b[0m \u001b[38;5;28mprint\u001b[39m(G)\n",
      "Cell \u001b[0;32mIn[10], line 25\u001b[0m, in \u001b[0;36mgen_alg\u001b[0;34m(I, derivatives, S, R)\u001b[0m\n\u001b[1;32m     23\u001b[0m \u001b[38;5;28;01mwhile\u001b[39;00m G1 \u001b[38;5;241m!=\u001b[39m G2:\n\u001b[1;32m     24\u001b[0m     G1 \u001b[38;5;241m=\u001b[39m G2\n\u001b[0;32m---> 25\u001b[0m     G_S \u001b[38;5;241m=\u001b[39m \u001b[43mintersect\u001b[49m\u001b[43m(\u001b[49m\u001b[43mG1\u001b[49m\u001b[43m,\u001b[49m\u001b[43m \u001b[49m\u001b[43mS\u001b[49m\u001b[43m)\u001b[49m\n\u001b[1;32m     26\u001b[0m     G2 \u001b[38;5;241m=\u001b[39m ideal(G1 \u001b[38;5;241m+\u001b[39m partial(G_S, derivatives, S, R))\u001b[38;5;241m.\u001b[39mgroebner_basis()\n\u001b[1;32m     27\u001b[0m \u001b[38;5;28;01mreturn\u001b[39;00m G1\n",
      "Cell \u001b[0;32mIn[10], line 17\u001b[0m, in \u001b[0;36mintersect\u001b[0;34m(G, S)\u001b[0m\n\u001b[1;32m     15\u001b[0m     \u001b[38;5;28;01mif\u001b[39;00m \u001b[38;5;28mset\u001b[39m(g\u001b[38;5;241m.\u001b[39mvariables())\u001b[38;5;241m.\u001b[39missubset(\u001b[38;5;28mvars\u001b[39m):\n\u001b[1;32m     16\u001b[0m         G_S\u001b[38;5;241m.\u001b[39mappend(g)\n\u001b[0;32m---> 17\u001b[0m \u001b[38;5;28;01mreturn\u001b[39;00m \u001b[43mideal\u001b[49m\u001b[43m(\u001b[49m\u001b[43mG_S\u001b[49m\u001b[43m)\u001b[49m\n",
      "File \u001b[0;32m~/miniforge3/envs/sage/lib/python3.10/site-packages/sage/rings/ideal.py:176\u001b[0m, in \u001b[0;36mIdeal\u001b[0;34m(*args, **kwds)\u001b[0m\n\u001b[1;32m    174\u001b[0m     \u001b[38;5;28;01mraise\u001b[39;00m \u001b[38;5;167;01mValueError\u001b[39;00m(\u001b[38;5;124m\"\u001b[39m\u001b[38;5;124mneed at least one argument\u001b[39m\u001b[38;5;124m\"\u001b[39m)\n\u001b[1;32m    175\u001b[0m \u001b[38;5;28;01mif\u001b[39;00m \u001b[38;5;28mlen\u001b[39m(args) \u001b[38;5;241m==\u001b[39m \u001b[38;5;241m1\u001b[39m \u001b[38;5;129;01mand\u001b[39;00m args[\u001b[38;5;241m0\u001b[39m] \u001b[38;5;241m==\u001b[39m []:\n\u001b[0;32m--> 176\u001b[0m     \u001b[38;5;28;01mraise\u001b[39;00m \u001b[38;5;167;01mValueError\u001b[39;00m(\u001b[38;5;124m\"\u001b[39m\u001b[38;5;124munable to determine which ring to embed the ideal in\u001b[39m\u001b[38;5;124m\"\u001b[39m)\n\u001b[1;32m    178\u001b[0m first \u001b[38;5;241m=\u001b[39m args[\u001b[38;5;241m0\u001b[39m]\n\u001b[1;32m    180\u001b[0m inferred_field \u001b[38;5;241m=\u001b[39m \u001b[38;5;28;01mFalse\u001b[39;00m\n",
      "\u001b[0;31mValueError\u001b[0m: unable to determine which ring to embed the ideal in"
     ]
    }
   ],
   "source": [
    "R = PolynomialRing(QQ, 'x, y, u, v, l, dl', order='lex')\n",
    "S = PolynomialRing(QQ, 'x, y, u, v, l', order='lex')\n",
    "derivatives = [R('u'), R('v'), R('l*x'), R('l*y - 1'), R('dl')]\n",
    "q = R('x^2 + y^2 - 1')\n",
    "J = gen_alg(q, derivatives, S, R)\n",
    "G = J.groebner_basis()\n",
    "print(G)"
   ]
  },
  {
   "cell_type": "code",
   "execution_count": 82,
   "metadata": {},
   "outputs": [
    {
     "name": "stdout",
     "output_type": "stream",
     "text": [
      "[p1*p2*p3^2*dl + p3*v1*v2*v3 - 1/2*p2*v1*v3^2 - 1/2*p1*v2*v3^2 + 1/2*p1*p2*p3*dl - 1/2*p1*p2*v3 + 1/16*p1*p2*dl, p2^2*p3^2*dl + p3*v2^2*v3 - p2*v2*v3^2 + 1/2*p2^2*p3*dl - p3^3*dl - 1/2*p2^2*v3 + 1/4*v3^3 + 1/16*p2^2*dl - 1/2*p3^2*dl + 1/2*p3*v3 - 1/16*p3*dl, p1*p2*p3*l - 1/2*p3*v1*v2 + 1/4*p2*v1*v3 + 1/4*p1*v2*v3 + 1/4*p1*p2*l + 1/4*p1*p2, p2^2*p3*l - 1/2*p3*v2^2 + 1/2*p2*v2*v3 + 1/4*p2^2*l - p3^2*l + 1/4*p2^2 - 1/8*v3^2 - 1/4*p3*l - 1/4*p3, p2^2*v1 - p1*p2*v2 - p3*v1 + 1/2*p1*v3, p2*v1*v2 - p1*v2^2 - 2*p1*p3*l - 1/2*v1*v3 - 1/2*p1*l - 1/2*p1, p1^2 + p2^2 - p3, p1*v1 + p2*v2 - 1/2*v3, v1^2 + v2^2 + 2*p3*l + 1/2*l + 1/2, v3*l + 1/2*p3*dl + 1/8*dl]\n"
     ]
    }
   ],
   "source": [
    "R = PolynomialRing(QQ, 'p1, p2, p3, v1, v2, v3, l, dl', order='degrevlex')\n",
    "S = PolynomialRing(QQ, 'p1, p2, p3, v1, v2, v3, l', order='degrevlex')\n",
    "derivatives = [R('v1'), R('v2'), R('v3'), R('2*l*p1'), R('2*l*p2'), R('- l - 1'), R('dl')]\n",
    "q = R('p1^2 + p2^2 - p3')\n",
    "J = gen_alg(q, derivatives, S, R)\n",
    "G = J.groebner_basis()\n",
    "print(G)"
   ]
  },
  {
   "cell_type": "code",
   "execution_count": 83,
   "metadata": {},
   "outputs": [
    {
     "name": "stdout",
     "output_type": "stream",
     "text": [
      "Polynomial Sequence with 24 Polynomials in 17 Variables\n"
     ]
    }
   ],
   "source": [
    "R = PolynomialRing(QQ, 'x, y, u, v, R, a1, a2, a3, a4, a5, a6, da1, da2, da3, da4, da5, da6', order='degrevlex')\n",
    "S = PolynomialRing(QQ, 'x, y, u, v, R, a1, a2, a3, a4, a5, a6', order='degrevlex')\n",
    "derivatives = [\n",
    "    R('u'), R('v'), R('x*R^3'), R('y*R^3'), R('-(x*u + y*v)*R^3'), \n",
    "    R('da1'), R('da2'), R('da3'), R('da4'), R('da5'), R('da6')\n",
    "]\n",
    "q = [R('R^2*(x^2 + y^2) - 1'), R('a1*x^2 + a2*y*x + a3*y^2 + a4*x + a5*y + a6')]\n",
    "J = gen_alg(q, derivatives, S, R)\n",
    "G = J.groebner_basis()\n",
    "print(G)"
   ]
  },
  {
   "cell_type": "code",
   "execution_count": null,
   "metadata": {},
   "outputs": [],
   "source": []
  }
 ],
 "metadata": {
  "kernelspec": {
   "display_name": "sage",
   "language": "python",
   "name": "python3"
  },
  "language_info": {
   "codemirror_mode": {
    "name": "ipython",
    "version": 3
   },
   "file_extension": ".py",
   "mimetype": "text/x-python",
   "name": "python",
   "nbconvert_exporter": "python",
   "pygments_lexer": "ipython3",
   "version": "3.1.-1"
  }
 },
 "nbformat": 4,
 "nbformat_minor": 2
}
