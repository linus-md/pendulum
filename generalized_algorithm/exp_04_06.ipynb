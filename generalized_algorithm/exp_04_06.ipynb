{
 "cells": [
  {
   "cell_type": "code",
   "execution_count": 2,
   "metadata": {},
   "outputs": [],
   "source": [
    "from sage.all import QQ, PolynomialRing, ideal\n",
    "\n",
    "def delta(f, derivatives, S, R):\n",
    "    vars = S.gens()\n",
    "    # This is \\partial on the S\n",
    "    if set(f.variables()).issubset(vars):\n",
    "        return sum([derivatives[i] * f.derivative(R(var)) for i, var in enumerate(vars)])\n",
    "    # and zero on the rest.\n",
    "    else: \n",
    "        return R(0)\n",
    "    \n",
    "    \n",
    "def gen_alg(q, derivatives, S, R):\n",
    "    I = ideal(q)\n",
    "    dI = I + ideal([delta(q, derivatives, S, R) for q in I.gens()])\n",
    "    while dI != I:\n",
    "        I = dI\n",
    "        dI = I + ideal([delta(q, derivatives, S, R) for q in I.gens()])\n",
    "    return I.groebner_basis()"
   ]
  },
  {
   "cell_type": "code",
   "execution_count": 3,
   "metadata": {},
   "outputs": [
    {
     "name": "stdout",
     "output_type": "stream",
     "text": [
      "5 [dl - 3*v, l + v^2 + u^2 - y, y*v + x*u, x^2*v - v - x*y*u, y^2 + x^2 - 1]\n"
     ]
    }
   ],
   "source": [
    "R = PolynomialRing(QQ, 'x, y, u, v, l, dl', order='invlex')\n",
    "S = PolynomialRing(QQ, 'x, y, u, v, l', order='invlex')\n",
    "derivatives = [R('u'), R('v'), R('l*x'), R('l*y - 1'), R('dl')]\n",
    "q = R('x^2 + y^2 - 1')\n",
    "G = gen_alg(q, derivatives, S, R)\n",
    "print(len(G), G)"
   ]
  },
  {
   "cell_type": "code",
   "execution_count": 4,
   "metadata": {},
   "outputs": [
    {
     "name": "stdout",
     "output_type": "stream",
     "text": [
      "5 [v2^2*dl + v1^2*dl + 1/2*dl - 8*p2*v2*l^2 - 8*p1*v1*l^2, p2^2*dl + p1^2*dl + 1/4*dl + 4*p2*v2*l + 4*p1*v1*l, p2^2*l + p1^2*l + 1/4*l + 1/2*v2^2 + 1/2*v1^2 + 1/4, v3 - 2*p2*v2 - 2*p1*v1, p3 - p2^2 - p1^2]\n"
     ]
    }
   ],
   "source": [
    "R = PolynomialRing(QQ, 'p1, p2, p3, v1, v2, v3, l, dl', order='invlex')\n",
    "S = PolynomialRing(QQ, 'p1, p2, p3, v1, v2, v3, l', order='invlex')\n",
    "derivatives = [R('v1'), R('v2'), R('v3'), R('2*l*p1'), R('2*l*p2'), R('- l - 1'), R('dl')]\n",
    "q = R('p1^2 + p2^2 - p3')\n",
    "G = gen_alg(q, derivatives, S, R)\n",
    "print(len(G), G)"
   ]
  },
  {
   "cell_type": "code",
   "execution_count": 5,
   "metadata": {},
   "outputs": [
    {
     "name": "stdout",
     "output_type": "stream",
     "text": [
      "3 [da6 + y*da5 + x*da4 + y^2*da3 + x*y*da2 + x^2*da1 + v*a5 + u*a4 + 2*y*v*a3 + x*v*a2 + y*u*a2 + 2*x*u*a1, a6 + y*a5 + x*a4 + y^2*a3 + x*y*a2 + x^2*a1, y^2*R^2 + x^2*R^2 - 1]\n"
     ]
    }
   ],
   "source": [
    "R = PolynomialRing(QQ, 'x, y, u, v, R, a1, a2, a3, a4, a5, a6, da1, da2, da3, da4, da5, da6', order='invlex')\n",
    "S = PolynomialRing(QQ, 'x, y, u, v, R, a1, a2, a3, a4, a5, a6', order='invlex')\n",
    "derivatives = [\n",
    "    R('u'), R('v'), R('x*R^3'), R('y*R^3'), R('-(x*u + y*v)*R^3'), \n",
    "    R('da1'), R('da2'), R('da3'), R('da4'), R('da5'), R('da6')\n",
    "]\n",
    "q = [R('R^2*(x^2 + y^2) - 1'), R('a1*x^2 + a2*y*x + a3*y^2 + a4*x + a5*y + a6')]\n",
    "G = gen_alg(q, derivatives, S, R)\n",
    "print(len(G), G)"
   ]
  },
  {
   "cell_type": "code",
   "execution_count": null,
   "metadata": {},
   "outputs": [],
   "source": []
  }
 ],
 "metadata": {
  "kernelspec": {
   "display_name": "sage",
   "language": "python",
   "name": "python3"
  },
  "language_info": {
   "codemirror_mode": {
    "name": "ipython",
    "version": 3
   },
   "file_extension": ".py",
   "mimetype": "text/x-python",
   "name": "python",
   "nbconvert_exporter": "python",
   "pygments_lexer": "ipython3",
   "version": "3.10.14"
  }
 },
 "nbformat": 4,
 "nbformat_minor": 2
}
