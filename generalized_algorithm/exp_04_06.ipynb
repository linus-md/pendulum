{
 "cells": [
  {
   "cell_type": "code",
   "execution_count": 41,
   "metadata": {},
   "outputs": [],
   "source": [
    "from sage.all import QQ, PolynomialRing, ideal\n",
    "\n",
    "R = PolynomialRing(QQ, 'x', 3, order='degrevlex')\n",
    "S = PolynomialRing(QQ, 'x', 2, order='degrevlex')\n",
    "I = ideal(R('x0^2'), R('x0*x1+x1'))\n",
    "J = ideal(S('x0^2'), S('x0*x1+x1'))"
   ]
  },
  {
   "cell_type": "code",
   "execution_count": 51,
   "metadata": {},
   "outputs": [
    {
     "name": "stdout",
     "output_type": "stream",
     "text": [
      "(x0, x1, x2)\n",
      "(x0, x1)\n",
      "True\n"
     ]
    }
   ],
   "source": [
    "def sub2ring(f): return f.parent().gens()\n",
    "\n",
    "gensI = sub2ring(I.gens()[1])\n",
    "gensJ = sub2ring(J.gens()[1])\n",
    "print(gensI)\n",
    "print(gensJ)\n",
    "print(set(gensJ).issubset(gensI))"
   ]
  },
  {
   "cell_type": "code",
   "execution_count": 37,
   "metadata": {},
   "outputs": [
    {
     "data": {
      "text/plain": [
       "False"
      ]
     },
     "execution_count": 37,
     "metadata": {},
     "output_type": "execute_result"
    }
   ],
   "source": [
    "b in a"
   ]
  },
  {
   "cell_type": "code",
   "execution_count": null,
   "metadata": {},
   "outputs": [],
   "source": []
  }
 ],
 "metadata": {
  "kernelspec": {
   "display_name": "sage",
   "language": "python",
   "name": "python3"
  },
  "language_info": {
   "codemirror_mode": {
    "name": "ipython",
    "version": 3
   },
   "file_extension": ".py",
   "mimetype": "text/x-python",
   "name": "python",
   "nbconvert_exporter": "python",
   "pygments_lexer": "ipython3",
   "version": "3.10.14"
  }
 },
 "nbformat": 4,
 "nbformat_minor": 2
}
