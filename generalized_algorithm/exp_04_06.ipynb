{
 "cells": [
  {
   "cell_type": "code",
   "execution_count": 80,
   "metadata": {},
   "outputs": [],
   "source": [
    "from sage.all import QQ, PolynomialRing, ideal\n",
    "\n",
    "def partial(f, derivatives, S, R):\n",
    "    vars = S.gens()\n",
    "    return sum([derivatives[i] * f.derivative(R(var)) for i, var in enumerate(vars)])\n",
    "\n",
    "def intersect(J, S):\n",
    "    vars = S.gens()\n",
    "    J = J.groebner_basis() # TODO is this necessary? y? - empirically it does not seem to be so?\n",
    "    J_S = []\n",
    "    for f in J:\n",
    "        if set(f.variables()).issubset(vars):\n",
    "            J_S.append(f)\n",
    "    return ideal(J_S)\n",
    "\n",
    "def gen_alg(I, derivatives, S, R):\n",
    "    J1 = ideal(I)\n",
    "    J_S = intersect(J1, S)\n",
    "    J2 = J1 + ideal([partial(f, derivatives, S, R) for f in J_S.gens()] +\n",
    "                    [f for f in J_S.gens()])\n",
    "    while J1 != J2:\n",
    "        J1 = J2\n",
    "        J_S = intersect(J1, S)\n",
    "        J2 = J1 + ideal([partial(f, derivatives, S, R) for f in J_S.gens()] +\n",
    "                        [f for f in J_S.gens()])\n",
    "    return J1"
   ]
  },
  {
   "cell_type": "code",
   "execution_count": 81,
   "metadata": {},
   "outputs": [
    {
     "name": "stdout",
     "output_type": "stream",
     "text": [
      "[x*y^2 - x*y*l + 1/3*u*dl, y^3 - y^2*l + 1/9*dl^2 - y + l, y^2*u - 1/3*x*y*dl - u, y*u*dl - 1/3*x*dl^2 + 3*x*y - 3*x*l, x^2 + y^2 - 1, x*u + 1/3*y*dl, u^2 + 1/9*dl^2 - y + l, v - 1/3*dl]\n"
     ]
    }
   ],
   "source": [
    "R = PolynomialRing(QQ, 'x, y, u, v, l, dl', order='degrevlex')\n",
    "S = PolynomialRing(QQ, 'x, y, u, v, l', order='degrevlex')\n",
    "derivatives = [R('u'), R('v'), R('l*x'), R('l*y - 1'), R('dl')]\n",
    "q = R('x^2 + y^2 - 1')\n",
    "J = gen_alg(q, derivatives, S, R)\n",
    "G = J.groebner_basis()\n",
    "print(G)"
   ]
  },
  {
   "cell_type": "code",
   "execution_count": 82,
   "metadata": {},
   "outputs": [
    {
     "name": "stdout",
     "output_type": "stream",
     "text": [
      "[p1*p2*p3^2*dl + p3*v1*v2*v3 - 1/2*p2*v1*v3^2 - 1/2*p1*v2*v3^2 + 1/2*p1*p2*p3*dl - 1/2*p1*p2*v3 + 1/16*p1*p2*dl, p2^2*p3^2*dl + p3*v2^2*v3 - p2*v2*v3^2 + 1/2*p2^2*p3*dl - p3^3*dl - 1/2*p2^2*v3 + 1/4*v3^3 + 1/16*p2^2*dl - 1/2*p3^2*dl + 1/2*p3*v3 - 1/16*p3*dl, p1*p2*p3*l - 1/2*p3*v1*v2 + 1/4*p2*v1*v3 + 1/4*p1*v2*v3 + 1/4*p1*p2*l + 1/4*p1*p2, p2^2*p3*l - 1/2*p3*v2^2 + 1/2*p2*v2*v3 + 1/4*p2^2*l - p3^2*l + 1/4*p2^2 - 1/8*v3^2 - 1/4*p3*l - 1/4*p3, p2^2*v1 - p1*p2*v2 - p3*v1 + 1/2*p1*v3, p2*v1*v2 - p1*v2^2 - 2*p1*p3*l - 1/2*v1*v3 - 1/2*p1*l - 1/2*p1, p1^2 + p2^2 - p3, p1*v1 + p2*v2 - 1/2*v3, v1^2 + v2^2 + 2*p3*l + 1/2*l + 1/2, v3*l + 1/2*p3*dl + 1/8*dl]\n"
     ]
    }
   ],
   "source": [
    "R = PolynomialRing(QQ, 'p1, p2, p3, v1, v2, v3, l, dl', order='degrevlex')\n",
    "S = PolynomialRing(QQ, 'p1, p2, p3, v1, v2, v3, l', order='degrevlex')\n",
    "derivatives = [R('v1'), R('v2'), R('v3'), R('2*l*p1'), R('2*l*p2'), R('- l - 1'), R('dl')]\n",
    "q = R('p1^2 + p2^2 - p3')\n",
    "J = gen_alg(q, derivatives, S, R)\n",
    "G = J.groebner_basis()\n",
    "print(G)"
   ]
  },
  {
   "cell_type": "code",
   "execution_count": 83,
   "metadata": {},
   "outputs": [
    {
     "name": "stdout",
     "output_type": "stream",
     "text": [
      "Polynomial Sequence with 24 Polynomials in 17 Variables\n"
     ]
    }
   ],
   "source": [
    "R = PolynomialRing(QQ, 'x, y, u, v, R, a1, a2, a3, a4, a5, a6, da1, da2, da3, da4, da5, da6', order='degrevlex')\n",
    "S = PolynomialRing(QQ, 'x, y, u, v, R, a1, a2, a3, a4, a5, a6', order='degrevlex')\n",
    "derivatives = [\n",
    "    R('u'), R('v'), R('x*R^3'), R('y*R^3'), R('-(x*u + y*v)*R^3'), \n",
    "    R('da1'), R('da2'), R('da3'), R('da4'), R('da5'), R('da6')\n",
    "]\n",
    "q = [R('R^2*(x^2 + y^2) - 1'), R('a1*x^2 + a2*y*x + a3*y^2 + a4*x + a5*y + a6')]\n",
    "J = gen_alg(q, derivatives, S, R)\n",
    "G = J.groebner_basis()\n",
    "print(G)"
   ]
  },
  {
   "cell_type": "code",
   "execution_count": null,
   "metadata": {},
   "outputs": [],
   "source": []
  }
 ],
 "metadata": {
  "kernelspec": {
   "display_name": "sage",
   "language": "python",
   "name": "python3"
  },
  "language_info": {
   "codemirror_mode": {
    "name": "ipython",
    "version": 3
   },
   "file_extension": ".py",
   "mimetype": "text/x-python",
   "name": "python",
   "nbconvert_exporter": "python",
   "pygments_lexer": "ipython3",
   "version": "3.10.14"
  }
 },
 "nbformat": 4,
 "nbformat_minor": 2
}
