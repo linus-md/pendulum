{
 "cells": [
  {
   "cell_type": "code",
   "execution_count": 33,
   "metadata": {},
   "outputs": [],
   "source": [
    "from sage.all import QQ, PolynomialRing, ideal\n",
    "\n",
    "def delta(f, derivatives, subring, ring):\n",
    "    vars = subring.gens()\n",
    "    # This is \\partial on the subring\n",
    "    if set(f.variables()).issubset(vars):\n",
    "        return sum([derivatives[i] * f.derivative(ring(var)) for i, var in enumerate(vars)])\n",
    "    # and zero on the rest.\n",
    "    else: \n",
    "        return ring(0)\n",
    "    \n",
    "    \n",
    "def gen_alg(q, derivatives, S, R):\n",
    "    I = ideal(q)\n",
    "    dI = I + ideal([delta(q, derivatives, S, R) for q in I.gens()])\n",
    "    while dI != I:\n",
    "        I = dI\n",
    "        dI = I + ideal([delta(q, derivatives, S, R) for q in I.gens()])\n",
    "    return I.groebner_basis()"
   ]
  },
  {
   "cell_type": "code",
   "execution_count": 45,
   "metadata": {},
   "outputs": [],
   "source": [
    "R = PolynomialRing(QQ, 'x, y, u, v, l, dl', order='invlex')\n",
    "S = PolynomialRing(QQ, 'x, y, u, v, l', order='invlex')\n",
    "derivatives = [R('u'), R('v'), R('l*x'), R('l*y - 1'), R('dl')]\n",
    "q = R('x^2 + y^2 - 1')\n",
    "\n",
    "G = gen_alg(q, derivatives, S, R)"
   ]
  },
  {
   "cell_type": "code",
   "execution_count": 46,
   "metadata": {},
   "outputs": [
    {
     "name": "stdout",
     "output_type": "stream",
     "text": [
      "[dl - 3*v, l + v^2 + u^2 - y, y*v + x*u, x^2*v - v - x*y*u, y^2 + x^2 - 1]\n"
     ]
    },
    {
     "data": {
      "text/plain": [
       "5"
      ]
     },
     "execution_count": 46,
     "metadata": {},
     "output_type": "execute_result"
    }
   ],
   "source": [
    "print(G)\n",
    "len(G)"
   ]
  },
  {
   "cell_type": "code",
   "execution_count": null,
   "metadata": {},
   "outputs": [],
   "source": []
  }
 ],
 "metadata": {
  "kernelspec": {
   "display_name": "sage",
   "language": "python",
   "name": "python3"
  },
  "language_info": {
   "codemirror_mode": {
    "name": "ipython",
    "version": 3
   },
   "file_extension": ".py",
   "mimetype": "text/x-python",
   "name": "python",
   "nbconvert_exporter": "python",
   "pygments_lexer": "ipython3",
   "version": "3.10.14"
  }
 },
 "nbformat": 4,
 "nbformat_minor": 2
}
