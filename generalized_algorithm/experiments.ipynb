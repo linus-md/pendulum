{
 "cells": [
  {
   "cell_type": "code",
   "execution_count": 17,
   "metadata": {},
   "outputs": [],
   "source": [
    "from sage.all import QQ, PolynomialRing, ideal\n",
    "\n",
    "def partial(q, pi):\n",
    "    vars = q.parent().gens()\n",
    "    return sum([pi[i] * q.derivative(var) for i, var in enumerate(vars)])\n",
    "\n",
    "def general_algorithm(q, pi, subring):\n",
    "    i = 0\n",
    "    G = ideal(q).groebner_basis()\n",
    "    g = partial(q, pi).reduce(G)\n",
    "    print(G)\n",
    "    print(g)\n",
    "    while g != 0:\n",
    "        G = ideal(G + [g]).groebner_basis()\n",
    "        print(G)\n",
    "        print(g, set(g.variables()).issubset(subring.gens()))\n",
    "        if set(g.variables()).issubset(subring.gens()):\n",
    "            g = partial(g, pi).reduce(G)\n",
    "        else:\n",
    "            return G\n",
    "    return G"
   ]
  },
  {
   "cell_type": "code",
   "execution_count": 8,
   "metadata": {},
   "outputs": [
    {
     "name": "stdout",
     "output_type": "stream",
     "text": [
      "[x^2 + y^2 - 1]\n",
      "2*x*u + 2*y*v\n",
      "[x^2 + y^2 - 1, x*y*v - y^2*u + u, x*u + y*v, y^2*u^2 + y^2*v^2 - u^2]\n",
      "2*x*u + 2*y*v True\n",
      "[x^2 + u^4 + 2*u^2*v^2 + 2*u^2*l + v^4 + 2*v^2*l + l^2 - 1, x*u + u^2*v + v^3 + v*l, x*v^3 + x*v*l - u^5 - 3*u^3*v^2 - 2*u^3*l - 2*u*v^4 - 3*u*v^2*l - u*l^2 + u, y - u^2 - v^2 - l, u^6 + 3*u^4*v^2 + 2*u^4*l + 3*u^2*v^4 + 4*u^2*v^2*l + u^2*l^2 - u^2 + v^6 + 2*v^4*l + v^2*l^2]\n",
      "-2*y + 2*u^2 + 2*v^2 + 2*l True\n",
      "[x^2 + u^4 + 2*u^2*l + 2/9*u^2*dl^2 + l^2 + 2/9*l*dl^2 + 1/81*dl^4 - 1, x*u + 1/3*u^2*dl + 1/3*l*dl + 1/27*dl^3, x*l*dl + 1/9*x*dl^3 - 3*u^5 - 6*u^3*l - u^3*dl^2 - 3*u*l^2 - u*l*dl^2 - 2/27*u*dl^4 + 3*u, y - u^2 - l - 1/9*dl^2, u^6 + 2*u^4*l + 1/3*u^4*dl^2 + u^2*l^2 + 4/9*u^2*l*dl^2 + 1/27*u^2*dl^4 - u^2 + 1/9*l^2*dl^2 + 2/81*l*dl^4 + 1/729*dl^6, v - 1/3*dl]\n",
      "-6*v + 2*dl False\n"
     ]
    }
   ],
   "source": [
    "R = PolynomialRing(QQ, 'x, y, u, v, l, dl', order='lex')\n",
    "S = PolynomialRing(QQ, 'x, y, u, v, l', order='lex')\n",
    "pi = [R('u'), \n",
    "      R('v'), \n",
    "      R('l*x'), \n",
    "      R('l*y - 1'), \n",
    "      R('dl'),\n",
    "      R('0')]\n",
    "    \n",
    "q = R('x^2 + y^2 - 1')\n",
    "\n",
    "res = general_algorithm(q, pi, S)"
   ]
  },
  {
   "cell_type": "code",
   "execution_count": 16,
   "metadata": {},
   "outputs": [
    {
     "name": "stdout",
     "output_type": "stream",
     "text": [
      "[p1^2 + p2^2 - p3]\n",
      "2*p1*v1 + 2*p2*v2 - v3\n",
      "[p1^2 + p2^2 - p3, p1*p2*v2 - 1/2*p1*v3 - p2^2*v1 + p3*v1, p1*v1 + p2*v2 - 1/2*v3, p2^2*v1^2 + p2^2*v2^2 - p2*v2*v3 - p3*v1^2 + 1/4*v3^2]\n",
      "2*p1*v1 + 2*p2*v2 - v3 True\n",
      "[p1^2 + p2^2 - p3, p1*p2*v2 - 1/2*p1*v3 - p2^2*v1 + p3*v1, p1*v1 + p2*v2 - 1/2*v3, p2^2*v1^2 + p2^2*v2^2 - p2*v2*v3 - p3*v1^2 + 1/4*v3^2, p3*l + 1/2*v1^2 + 1/2*v2^2 + 1/4*l + 1/4]\n",
      "4*p3*l + 2*v1^2 + 2*v2^2 + l + 1 True\n",
      "[p1^2 + p2^2 - p3, p1*p2*v2 - 1/2*p1*v3 - p2^2*v1 + p3*v1, p1*p2*v3*l^2 - 1/8*p1*p2*dl - 1/8*p1*v2*v3*dl - 1/8*p2*v1*v3*dl - 1/2*v1*v2*v3*l - 1/16*v1*v2*dl, p1*v1 + p2*v2 - 1/2*v3, p1*v2^2*dl - 4*p1*v3*l^2 + 1/2*p1*dl - p2*v1*v2*dl + 1/2*v1*v3*dl, p2^2*v1^2 + p2^2*v2^2 - p2*v2*v3 - p3*v1^2 + 1/4*v3^2, p2^2*v3*l^2 - 1/8*p2^2*dl - 1/4*p2*v2*v3*dl + 1/2*v1^2*v3*l - 1/16*v2^2*dl + 1/16*v3^2*dl + 1/4*v3*l^2 - 1/32*dl, p3*l + 1/2*v1^2 + 1/2*v2^2 + 1/4*l + 1/4, p3*dl + 2*v3*l + 1/4*dl, v1^2*dl + v2^2*dl - 4*v3*l^2 + 1/2*dl]\n",
      "4*p3*dl + 8*v3*l + dl False\n"
     ]
    }
   ],
   "source": [
    "R = PolynomialRing(QQ, 'p1, p2, p3, v1, v2, v3, l, dl', order='lex')\n",
    "S = PolynomialRing(QQ, 'p1, p2, p3, v1, v2, v3, l', order='lex')\n",
    "\n",
    "pi = [R('v1'), \n",
    "      R('v2'), \n",
    "      R('v3'), \n",
    "      R('2*l*p1'), \n",
    "      R('2*l*p2'),\n",
    "      R('- l - 1'),\n",
    "      R('dl'),\n",
    "      R('0')\n",
    "]\n",
    "qi = R('p1^2 + p2^2 - p3')\n",
    "\n",
    "res = general_algorithm(qi, pi, S)"
   ]
  },
  {
   "cell_type": "code",
   "execution_count": null,
   "metadata": {},
   "outputs": [],
   "source": []
  }
 ],
 "metadata": {
  "kernelspec": {
   "display_name": "sage",
   "language": "python",
   "name": "python3"
  },
  "language_info": {
   "codemirror_mode": {
    "name": "ipython",
    "version": 3
   },
   "file_extension": ".py",
   "mimetype": "text/x-python",
   "name": "python",
   "nbconvert_exporter": "python",
   "pygments_lexer": "ipython3",
   "version": "3.10.14"
  }
 },
 "nbformat": 4,
 "nbformat_minor": 2
}
