{
 "cells": [
  {
   "cell_type": "code",
   "execution_count": 1,
   "metadata": {},
   "outputs": [],
   "source": [
    "from sage.all import QQ, PolynomialRing, ideal\n",
    "\n",
    "def diff_op(q, pi, R, S):\n",
    "    vars = q.parent().gens()\n",
    "    if set(q.variables()).issubset(S.gens()):\n",
    "        return sum([pi[i] * q.derivative(var) for i, var in enumerate(vars)])\n",
    "    else:\n",
    "        return R(0)\n",
    "\n",
    "def algorithm(qi, pi, R, S):\n",
    "    i = 0\n",
    "    G = ideal(qi).groebner_basis()\n",
    "\n",
    "    while True:\n",
    "        qi = [diff_op(qs, pi, R, S) for qs in qi]\n",
    "        qi = [qs.reduce(G) for qs in qi]\n",
    "\n",
    "        if any(qs != 0 for qs in qi):\n",
    "            i += 1\n",
    "            G = ideal(list(set(G + qi))).groebner_basis()\n",
    "        else:\n",
    "            return G"
   ]
  },
  {
   "cell_type": "code",
   "execution_count": 2,
   "metadata": {},
   "outputs": [
    {
     "name": "stdout",
     "output_type": "stream",
     "text": [
      "[x^2 - l^2 + 1, x*u, x*l^2 - x, y + l^3 - 2*l, u^2 + l^3 - l, u*l^2 - u, v, l^4 - 2*l^2 + 1]\n"
     ]
    }
   ],
   "source": [
    "# Sanity check\n",
    "R = PolynomialRing(QQ, 'x, y, u, v, l', order='lex')\n",
    "pi = [R('u'), \n",
    "      R('v'), \n",
    "      R('l*x'), \n",
    "      R('l*y - 1'), \n",
    "      R('0')]\n",
    "qi = [R('x^2 + y^2 - 1')]\n",
    "res = algorithm(qi, pi, R, R)\n",
    "print(res)"
   ]
  },
  {
   "cell_type": "code",
   "execution_count": 3,
   "metadata": {},
   "outputs": [
    {
     "name": "stdout",
     "output_type": "stream",
     "text": [
      "[dl - 3*v, x^2 + u^4 + 2*u^2*v^2 + 2*u^2*l + v^4 + 2*v^2*l + l^2 - 1, x*u + u^2*v + v^3 + v*l, x*v^3 + x*v*l - u^5 - 3*u^3*v^2 - 2*u^3*l - 2*u*v^4 - 3*u*v^2*l - u*l^2 + u, y - u^2 - v^2 - l, u^6 + 3*u^4*v^2 + 2*u^4*l + 3*u^2*v^4 + 4*u^2*v^2*l + u^2*l^2 - u^2 + v^6 + 2*v^4*l + v^2*l^2]\n"
     ]
    }
   ],
   "source": [
    "R = PolynomialRing(QQ, 'dl, x, y, u, v, l', order='lex')\n",
    "S = PolynomialRing(QQ, 'x, y, u, v, l', order='lex')\n",
    "pi = [R('0'),\n",
    "      R('u'), \n",
    "      R('v'), \n",
    "      R('l*x'), \n",
    "      R('l*y - 1'), \n",
    "      R('dl')]\n",
    "qi = [R('x^2 + y^2 - 1')]\n",
    "res = algorithm(qi, pi, R, S)\n",
    "print(res)"
   ]
  },
  {
   "cell_type": "code",
   "execution_count": 4,
   "metadata": {},
   "outputs": [],
   "source": [
    "R = PolynomialRing(QQ, 'dl1, dl2, x1, y1, u1, v1, x2, y2, u2, v2, l1, l2', \n",
    "                       order='lex')\n",
    "S = PolynomialRing(QQ, 'x1, y1, u1, v1, x2, y2, u2, v2, l1, l2', \n",
    "                       order='lex')\n",
    "pi = [\n",
    "    R('dl1'),\n",
    "    R('dl2'),\n",
    "    R('u1'),\n",
    "    R('v1'),\n",
    "    R('- l1*x1 - l2*(x1 - x2)'),\n",
    "    R('- l1*y1 - l2*(y1 - y2) - 1'),\n",
    "    R('u2'),\n",
    "    R('v2'),\n",
    "    R('- l2*(x2 - x1)'),\n",
    "    R('- l2*(y2 - y1) - 1'),\n",
    "    R('0'),\n",
    "    R('0')\n",
    "    ]\n",
    "\n",
    "qi = [R('x1^2 + y1^2 - 1'), R('(x2 - x1)^2 + (y2 - y1)^2 - 1')]\n",
    "\n",
    "res = algorithm(qi, pi, R, S)"
   ]
  },
  {
   "cell_type": "code",
   "execution_count": null,
   "metadata": {},
   "outputs": [],
   "source": []
  },
  {
   "cell_type": "code",
   "execution_count": null,
   "metadata": {},
   "outputs": [],
   "source": []
  }
 ],
 "metadata": {
  "kernelspec": {
   "display_name": "sage",
   "language": "python",
   "name": "python3"
  },
  "language_info": {
   "codemirror_mode": {
    "name": "ipython",
    "version": 3
   },
   "file_extension": ".py",
   "mimetype": "text/x-python",
   "name": "python",
   "nbconvert_exporter": "python",
   "pygments_lexer": "ipython3",
   "version": "3.10.14"
  }
 },
 "nbformat": 4,
 "nbformat_minor": 2
}
